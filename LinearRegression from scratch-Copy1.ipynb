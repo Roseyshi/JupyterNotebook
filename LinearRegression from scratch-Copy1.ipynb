{
 "cells": [
  {
   "cell_type": "code",
   "execution_count": 81,
   "id": "07116812",
   "metadata": {},
   "outputs": [],
   "source": [
    "import pandas as pd\n",
    "import numpy as np\n",
    "import matplotlib.pyplot as plt"
   ]
  },
  {
   "cell_type": "code",
   "execution_count": 82,
   "id": "ecf824fd",
   "metadata": {},
   "outputs": [],
   "source": [
    "class LinearRegression():\n",
    "    #initiating the parameters(learning rate & no of iterations)\n",
    "    def __init__(self, learning_rate,no_of_iterations):\n",
    "        \n",
    "        self.learning_rate = learning_rate\n",
    "        self.no_of_iterations = no_of_iterations\n",
    "        \n",
    "    def fit(self,X,Y):\n",
    "        \n",
    "        # number of training examples and number of features\n",
    "        self.m, self.n = X.shape   #number of rows and no of columns\n",
    "        \n",
    "        # initiating the weights and bias\n",
    "        \n",
    "        self.w= np.zeros(self.n)\n",
    "        \n",
    "        self.b= 0\n",
    "        \n",
    "        self.X= X\n",
    "        \n",
    "        self.Y= Y\n",
    "        \n",
    "        # implementing the gradient descent\n",
    "        \n",
    "        for i in range(self.no_of_iterations) :\n",
    "            self.update_weights()\n",
    "        \n",
    "            \n",
    "            \n",
    "                \n",
    "    def update_weights(self):\n",
    "        Y_prediction= self.predict( self.X)\n",
    "        \n",
    "       # calculate gradients\n",
    "    \n",
    "        dw= - (2 * (self.X.T).dot (self.Y - Y_prediction)) / self.m\n",
    " \n",
    "        db= -2*np.sum (self.Y - Y_prediction) / self.m\n",
    "        \n",
    "        \n",
    "        # updating the weights\n",
    "        self.w = self.w - self.learning_rate * dw\n",
    "        self.b = self.b - self.learning_rate * db\n",
    "        \n",
    "    def predict(self,X):\n",
    "        \n",
    "        return X.dot(self.w) + self.b"
   ]
  },
  {
   "cell_type": "markdown",
   "id": "9ae1d716",
   "metadata": {},
   "source": [
    "Work Flow of the linear regression model:\n",
    " Step 1: Set learnig Rate and number of iterations; Initiate random weights and bias value\n",
    " Step 2: Build linear regression equation (y=wx + b)\n",
    " Step 3: Find the \"y pred\" value for given x value for the corresponding weight and bias\n",
    " Step 4: Check the loss function for these parameter values.\n",
    " Step 5: Update the parameter values using gradient descent.(new weight & bias value)\n",
    " Step 6: Step 3,4,5 are repeated till we get the minimum loss function\n",
    " Finally we get the best model (best weight and bias value) as is has minimum loss function"
   ]
  },
  {
   "cell_type": "code",
   "execution_count": 84,
   "id": "799e8453",
   "metadata": {},
   "outputs": [],
   "source": [
    "import pandas as pd\n",
    "import matplotlib.pyplot as plt\n",
    "from sklearn.model_selection import train_test_split"
   ]
  },
  {
   "cell_type": "code",
   "execution_count": 85,
   "id": "f66ac1e3",
   "metadata": {},
   "outputs": [
    {
     "data": {
      "text/html": [
       "<div>\n",
       "<style scoped>\n",
       "    .dataframe tbody tr th:only-of-type {\n",
       "        vertical-align: middle;\n",
       "    }\n",
       "\n",
       "    .dataframe tbody tr th {\n",
       "        vertical-align: top;\n",
       "    }\n",
       "\n",
       "    .dataframe thead th {\n",
       "        text-align: right;\n",
       "    }\n",
       "</style>\n",
       "<table border=\"1\" class=\"dataframe\">\n",
       "  <thead>\n",
       "    <tr style=\"text-align: right;\">\n",
       "      <th></th>\n",
       "      <th>YearsExperience</th>\n",
       "      <th>Salary</th>\n",
       "    </tr>\n",
       "  </thead>\n",
       "  <tbody>\n",
       "    <tr>\n",
       "      <th>0</th>\n",
       "      <td>1.1</td>\n",
       "      <td>39343</td>\n",
       "    </tr>\n",
       "    <tr>\n",
       "      <th>1</th>\n",
       "      <td>1.3</td>\n",
       "      <td>46205</td>\n",
       "    </tr>\n",
       "    <tr>\n",
       "      <th>2</th>\n",
       "      <td>1.5</td>\n",
       "      <td>37731</td>\n",
       "    </tr>\n",
       "    <tr>\n",
       "      <th>3</th>\n",
       "      <td>2.0</td>\n",
       "      <td>43525</td>\n",
       "    </tr>\n",
       "    <tr>\n",
       "      <th>4</th>\n",
       "      <td>2.2</td>\n",
       "      <td>39891</td>\n",
       "    </tr>\n",
       "  </tbody>\n",
       "</table>\n",
       "</div>"
      ],
      "text/plain": [
       "   YearsExperience  Salary\n",
       "0              1.1   39343\n",
       "1              1.3   46205\n",
       "2              1.5   37731\n",
       "3              2.0   43525\n",
       "4              2.2   39891"
      ]
     },
     "execution_count": 85,
     "metadata": {},
     "output_type": "execute_result"
    }
   ],
   "source": [
    "salary_data=pd.read_csv('E:\\PROGRAMMING\\Salary_Data.csv')\n",
    "salary_data.head()"
   ]
  },
  {
   "cell_type": "code",
   "execution_count": 86,
   "id": "8cf76fdc",
   "metadata": {},
   "outputs": [
    {
     "data": {
      "text/plain": [
       "YearsExperience    0\n",
       "Salary             0\n",
       "dtype: int64"
      ]
     },
     "execution_count": 86,
     "metadata": {},
     "output_type": "execute_result"
    }
   ],
   "source": [
    "salary_data.isnull().sum()"
   ]
  },
  {
   "cell_type": "code",
   "execution_count": 87,
   "id": "cae4f6f8",
   "metadata": {},
   "outputs": [
    {
     "name": "stdout",
     "output_type": "stream",
     "text": [
      "<class 'pandas.core.frame.DataFrame'>\n",
      "RangeIndex: 30 entries, 0 to 29\n",
      "Data columns (total 2 columns):\n",
      " #   Column           Non-Null Count  Dtype  \n",
      "---  ------           --------------  -----  \n",
      " 0   YearsExperience  30 non-null     float64\n",
      " 1   Salary           30 non-null     int64  \n",
      "dtypes: float64(1), int64(1)\n",
      "memory usage: 608.0 bytes\n"
     ]
    }
   ],
   "source": [
    "salary_data.info()"
   ]
  },
  {
   "cell_type": "code",
   "execution_count": 88,
   "id": "99433a92",
   "metadata": {},
   "outputs": [],
   "source": [
    "X=salary_data.iloc[:, :-1].values.reshape(-1, 1)"
   ]
  },
  {
   "cell_type": "code",
   "execution_count": 89,
   "id": "a211512b",
   "metadata": {},
   "outputs": [
    {
     "name": "stdout",
     "output_type": "stream",
     "text": [
      "<class 'numpy.ndarray'>\n"
     ]
    }
   ],
   "source": [
    "print(type(X))"
   ]
  },
  {
   "cell_type": "code",
   "execution_count": 90,
   "id": "7c03099d",
   "metadata": {},
   "outputs": [
    {
     "data": {
      "text/plain": [
       "2"
      ]
     },
     "execution_count": 90,
     "metadata": {},
     "output_type": "execute_result"
    }
   ],
   "source": [
    "X.ndim"
   ]
  },
  {
   "cell_type": "code",
   "execution_count": 91,
   "id": "b42ee98d",
   "metadata": {},
   "outputs": [],
   "source": [
    "Y=salary_data.iloc[:, 1].values.reshape(-1, 1)"
   ]
  },
  {
   "cell_type": "code",
   "execution_count": 92,
   "id": "09cd0bc7",
   "metadata": {},
   "outputs": [
    {
     "name": "stdout",
     "output_type": "stream",
     "text": [
      "<class 'numpy.ndarray'>\n"
     ]
    }
   ],
   "source": [
    "print(type(Y))"
   ]
  },
  {
   "cell_type": "code",
   "execution_count": 93,
   "id": "1afdd5e5",
   "metadata": {},
   "outputs": [
    {
     "data": {
      "text/plain": [
       "(30, 1)"
      ]
     },
     "execution_count": 93,
     "metadata": {},
     "output_type": "execute_result"
    }
   ],
   "source": [
    "Y=Y.reshape(30,1)\n",
    "Y.shape"
   ]
  },
  {
   "cell_type": "code",
   "execution_count": 94,
   "id": "b807f481",
   "metadata": {},
   "outputs": [],
   "source": [
    "X_train, X_test, Y_train, Y_test= train_test_split(X,Y, test_size=0.33, random_state=2)"
   ]
  },
  {
   "cell_type": "code",
   "execution_count": 95,
   "id": "7796c7c2",
   "metadata": {},
   "outputs": [
    {
     "data": {
      "text/plain": [
       "(20, 1)"
      ]
     },
     "execution_count": 95,
     "metadata": {},
     "output_type": "execute_result"
    }
   ],
   "source": [
    "X_train.shape"
   ]
  },
  {
   "cell_type": "code",
   "execution_count": 96,
   "id": "945d3e28",
   "metadata": {},
   "outputs": [
    {
     "data": {
      "text/plain": [
       "(20, 1)"
      ]
     },
     "execution_count": 96,
     "metadata": {},
     "output_type": "execute_result"
    }
   ],
   "source": [
    "Y_train.shape"
   ]
  },
  {
   "cell_type": "code",
   "execution_count": 97,
   "id": "7e28045d",
   "metadata": {},
   "outputs": [
    {
     "data": {
      "text/plain": [
       "(10, 1)"
      ]
     },
     "execution_count": 97,
     "metadata": {},
     "output_type": "execute_result"
    }
   ],
   "source": [
    "X_test.shape"
   ]
  },
  {
   "cell_type": "code",
   "execution_count": 98,
   "id": "1863de23",
   "metadata": {},
   "outputs": [
    {
     "data": {
      "text/plain": [
       "(10, 1)"
      ]
     },
     "execution_count": 98,
     "metadata": {},
     "output_type": "execute_result"
    }
   ],
   "source": [
    "Y_test.shape"
   ]
  },
  {
   "cell_type": "code",
   "execution_count": 99,
   "id": "7c83fe9b",
   "metadata": {},
   "outputs": [],
   "source": [
    "model = LinearRegression(learning_rate=0.02, no_of_iterations=1000)"
   ]
  },
  {
   "cell_type": "code",
   "execution_count": 100,
   "id": "3891d2fd",
   "metadata": {},
   "outputs": [
    {
     "data": {
      "text/plain": [
       "array([[ 2.9],\n",
       "       [ 9.6],\n",
       "       [ 4. ],\n",
       "       [ 2.2],\n",
       "       [ 3.9],\n",
       "       [ 5.1],\n",
       "       [10.3],\n",
       "       [ 9. ],\n",
       "       [ 5.3],\n",
       "       [ 1.5],\n",
       "       [ 3.2],\n",
       "       [ 9.5],\n",
       "       [ 8.7],\n",
       "       [ 5.9],\n",
       "       [ 4. ],\n",
       "       [ 7.9],\n",
       "       [10.5],\n",
       "       [ 4.1],\n",
       "       [ 4.9],\n",
       "       [ 3.2]])"
      ]
     },
     "execution_count": 100,
     "metadata": {},
     "output_type": "execute_result"
    }
   ],
   "source": [
    "X_train"
   ]
  },
  {
   "cell_type": "code",
   "execution_count": 101,
   "id": "ed049bdf",
   "metadata": {},
   "outputs": [
    {
     "data": {
      "text/plain": [
       "array([[ 56642],\n",
       "       [112635],\n",
       "       [ 56957],\n",
       "       [ 39891],\n",
       "       [ 63218],\n",
       "       [ 66029],\n",
       "       [122391],\n",
       "       [105582],\n",
       "       [ 83088],\n",
       "       [ 37731],\n",
       "       [ 54445],\n",
       "       [116969],\n",
       "       [109431],\n",
       "       [ 81363],\n",
       "       [ 55794],\n",
       "       [101302],\n",
       "       [121872],\n",
       "       [ 57081],\n",
       "       [ 67938],\n",
       "       [ 64445]], dtype=int64)"
      ]
     },
     "execution_count": 101,
     "metadata": {},
     "output_type": "execute_result"
    }
   ],
   "source": [
    "Y_train"
   ]
  },
  {
   "cell_type": "code",
   "execution_count": 102,
   "id": "bb7a2e4b",
   "metadata": {},
   "outputs": [
    {
     "data": {
      "text/plain": [
       "(20, 20)"
      ]
     },
     "execution_count": 102,
     "metadata": {},
     "output_type": "execute_result"
    }
   ],
   "source": [
    "len(X_train), len(Y_train)"
   ]
  },
  {
   "cell_type": "code",
   "execution_count": 103,
   "id": "0b748351",
   "metadata": {},
   "outputs": [],
   "source": [
    "model.fit(X_train, Y_train)"
   ]
  },
  {
   "cell_type": "code",
   "execution_count": 104,
   "id": "73d413f0",
   "metadata": {},
   "outputs": [
    {
     "name": "stdout",
     "output_type": "stream",
     "text": [
      "weight=  [-6.85131644e+134 -6.85131644e+134 -6.85131644e+134 -6.85131644e+134\n",
      " -6.85131644e+134 -6.85131644e+134 -6.85131644e+134 -6.85131644e+134\n",
      " -6.85131644e+134 -6.85131644e+134 -6.85131644e+134 -6.85131644e+134\n",
      " -6.85131644e+134 -6.85131644e+134 -6.85131644e+134 -6.85131644e+134\n",
      " -6.85131644e+134 -6.85131644e+134 -6.85131644e+134 -6.85131644e+134]\n",
      "bias=  -2.043430518730315e+135\n"
     ]
    }
   ],
   "source": [
    "#print('bias=  ', model.b)\n",
    "print('weight= ', model.w[0])\n",
    "print('bias= ', model.b)"
   ]
  },
  {
   "cell_type": "code",
   "execution_count": 105,
   "id": "6b06ed9f",
   "metadata": {},
   "outputs": [],
   "source": [
    "#predicting salary value for test data\n",
    "test_data_prediction=model.predict(X_test)"
   ]
  },
  {
   "cell_type": "code",
   "execution_count": 106,
   "id": "abd21c4e",
   "metadata": {},
   "outputs": [
    {
     "name": "stdout",
     "output_type": "stream",
     "text": [
      "[[-2.93410166e+135 -2.93410166e+135 -2.93410166e+135 -2.93410166e+135\n",
      "  -2.93410166e+135 -2.93410166e+135 -2.93410166e+135 -2.93410166e+135\n",
      "  -2.93410166e+135 -2.93410166e+135 -2.93410166e+135 -2.93410166e+135\n",
      "  -2.93410166e+135 -2.93410166e+135 -2.93410166e+135 -2.93410166e+135\n",
      "  -2.93410166e+135 -2.93410166e+135 -2.93410166e+135 -2.93410166e+135]\n",
      " [-2.79707533e+135 -2.79707533e+135 -2.79707533e+135 -2.79707533e+135\n",
      "  -2.79707533e+135 -2.79707533e+135 -2.79707533e+135 -2.79707533e+135\n",
      "  -2.79707533e+135 -2.79707533e+135 -2.79707533e+135 -2.79707533e+135\n",
      "  -2.79707533e+135 -2.79707533e+135 -2.79707533e+135 -2.79707533e+135\n",
      "  -2.79707533e+135 -2.79707533e+135 -2.79707533e+135 -2.79707533e+135]\n",
      " [-5.12652292e+135 -5.12652292e+135 -5.12652292e+135 -5.12652292e+135\n",
      "  -5.12652292e+135 -5.12652292e+135 -5.12652292e+135 -5.12652292e+135\n",
      "  -5.12652292e+135 -5.12652292e+135 -5.12652292e+135 -5.12652292e+135\n",
      "  -5.12652292e+135 -5.12652292e+135 -5.12652292e+135 -5.12652292e+135\n",
      "  -5.12652292e+135 -5.12652292e+135 -5.12652292e+135 -5.12652292e+135]\n",
      " [-4.57841760e+135 -4.57841760e+135 -4.57841760e+135 -4.57841760e+135\n",
      "  -4.57841760e+135 -4.57841760e+135 -4.57841760e+135 -4.57841760e+135\n",
      "  -4.57841760e+135 -4.57841760e+135 -4.57841760e+135 -4.57841760e+135\n",
      "  -4.57841760e+135 -4.57841760e+135 -4.57841760e+135 -4.57841760e+135\n",
      "  -4.57841760e+135 -4.57841760e+135 -4.57841760e+135 -4.57841760e+135]\n",
      " [-6.90786519e+135 -6.90786519e+135 -6.90786519e+135 -6.90786519e+135\n",
      "  -6.90786519e+135 -6.90786519e+135 -6.90786519e+135 -6.90786519e+135\n",
      "  -6.90786519e+135 -6.90786519e+135 -6.90786519e+135 -6.90786519e+135\n",
      "  -6.90786519e+135 -6.90786519e+135 -6.90786519e+135 -6.90786519e+135\n",
      "  -6.90786519e+135 -6.90786519e+135 -6.90786519e+135 -6.90786519e+135]\n",
      " [-6.15422038e+135 -6.15422038e+135 -6.15422038e+135 -6.15422038e+135\n",
      "  -6.15422038e+135 -6.15422038e+135 -6.15422038e+135 -6.15422038e+135\n",
      "  -6.15422038e+135 -6.15422038e+135 -6.15422038e+135 -6.15422038e+135\n",
      "  -6.15422038e+135 -6.15422038e+135 -6.15422038e+135 -6.15422038e+135\n",
      "  -6.15422038e+135 -6.15422038e+135 -6.15422038e+135 -6.15422038e+135]\n",
      " [-7.66151000e+135 -7.66151000e+135 -7.66151000e+135 -7.66151000e+135\n",
      "  -7.66151000e+135 -7.66151000e+135 -7.66151000e+135 -7.66151000e+135\n",
      "  -7.66151000e+135 -7.66151000e+135 -7.66151000e+135 -7.66151000e+135\n",
      "  -7.66151000e+135 -7.66151000e+135 -7.66151000e+135 -7.66151000e+135\n",
      "  -7.66151000e+135 -7.66151000e+135 -7.66151000e+135 -7.66151000e+135]\n",
      " [-4.09882545e+135 -4.09882545e+135 -4.09882545e+135 -4.09882545e+135\n",
      "  -4.09882545e+135 -4.09882545e+135 -4.09882545e+135 -4.09882545e+135\n",
      "  -4.09882545e+135 -4.09882545e+135 -4.09882545e+135 -4.09882545e+135\n",
      "  -4.09882545e+135 -4.09882545e+135 -4.09882545e+135 -4.09882545e+135\n",
      "  -4.09882545e+135 -4.09882545e+135 -4.09882545e+135 -4.09882545e+135]\n",
      " [-3.41369381e+135 -3.41369381e+135 -3.41369381e+135 -3.41369381e+135\n",
      "  -3.41369381e+135 -3.41369381e+135 -3.41369381e+135 -3.41369381e+135\n",
      "  -3.41369381e+135 -3.41369381e+135 -3.41369381e+135 -3.41369381e+135\n",
      "  -3.41369381e+135 -3.41369381e+135 -3.41369381e+135 -3.41369381e+135\n",
      "  -3.41369381e+135 -3.41369381e+135 -3.41369381e+135 -3.41369381e+135]\n",
      " [-6.70232570e+135 -6.70232570e+135 -6.70232570e+135 -6.70232570e+135\n",
      "  -6.70232570e+135 -6.70232570e+135 -6.70232570e+135 -6.70232570e+135\n",
      "  -6.70232570e+135 -6.70232570e+135 -6.70232570e+135 -6.70232570e+135\n",
      "  -6.70232570e+135 -6.70232570e+135 -6.70232570e+135 -6.70232570e+135\n",
      "  -6.70232570e+135 -6.70232570e+135 -6.70232570e+135 -6.70232570e+135]]\n"
     ]
    }
   ],
   "source": [
    "print(test_data_prediction)"
   ]
  },
  {
   "cell_type": "code",
   "execution_count": 107,
   "id": "a61dd40c",
   "metadata": {},
   "outputs": [
    {
     "data": {
      "image/png": "[encoded data removed]",
      "text/plain": [
       "<Figure size 640x480 with 1 Axes>"
      ]
     },
     "metadata": {},
     "output_type": "display_data"
    }
   ],
   "source": [
    "#visualising the predicted values vs actual values\n",
    "plt.scatter(X_test, Y_test, color='red')\n",
    "plt.plot(X_test, test_data_prediction, color='blue')\n",
    "plt.xlabel('work experience')\n",
    "plt.ylabel('salary')\n",
    "plt.title('Work experience vs Salary')\n",
    "plt.show()"
   ]
  },
  {
   "cell_type": "code",
   "execution_count": null,
   "id": "96ea193a",
   "metadata": {},
   "outputs": [],
   "source": []
  }
 ],
 "metadata": {
  "kernelspec": {
   "display_name": "Python 3 (ipykernel)",
   "language": "python",
   "name": "python3"
  },
  "language_info": {
   "codemirror_mode": {
    "name": "ipython",
    "version": 3
   },
   "file_extension": ".py",
   "mimetype": "text/x-python",
   "name": "python",
   "nbconvert_exporter": "python",
   "pygments_lexer": "ipython3",
   "version": "3.9.13"
  }
 },
 "nbformat": 4,
 "nbformat_minor": 5
}
