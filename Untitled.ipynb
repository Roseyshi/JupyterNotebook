{
  "nbformat": 4,
  "nbformat_minor": 0,
  "metadata": {
    "colab": {
      "provenance": [],
      "authorship_tag": "ABX9TyMyqQ33wptDWAF2THck6h9L",
      "include_colab_link": true
    },
    "kernelspec": {
      "name": "python3",
      "display_name": "Python 3"
    },
    "language_info": {
      "name": "python"
    }
  },
  "cells": [
    {
      "cell_type": "markdown",
      "metadata": {
        "id": "view-in-github",
        "colab_type": "text"
      },
      "source": [
        "<a href=\"https://colab.research.google.com/github/Roseyshi/JupyterNotebook/blob/main/Untitled.ipynb\" target=\"_parent\"><img src=\"https://colab.research.google.com/assets/colab-badge.svg\" alt=\"Open In Colab\"/></a>"
      ]
    },
    {
      "cell_type": "code",
      "execution_count": 1,
      "metadata": {
        "colab": {
          "base_uri": "https://localhost:8080/"
        },
        "id": "11cr7w2bJHpr",
        "outputId": "f601d058-f36d-450b-ec00-7eed8b0b14fd"
      },
      "outputs": [
        {
          "output_type": "stream",
          "name": "stdout",
          "text": [
            "Total harvest in kilograms: 5650\n"
          ]
        }
      ],
      "source": [
        "total_kgs_wheat_harvest = 2050\n",
        "total_kgs_potato_harvest = 3600\n",
        "\n",
        "total_kgs_harvest = total_kgs_wheat_harvest + total_kgs_potato_harvest\n",
        "print(\"Total harvest in kilograms:\", total_kgs_harvest)\n"
      ]
    },
    {
      "cell_type": "code",
      "source": [
        "seed_expense = 650\n",
        "labour_expense = 3070\n",
        "\n",
        "total_expenses_dollars = seed_expense + labour_expense\n",
        "print(\"Total Expenses in dollars:\", total_expenses_dollars)"
      ],
      "metadata": {
        "colab": {
          "base_uri": "https://localhost:8080/"
        },
        "id": "poYFAyQdKiJp",
        "outputId": "d5c79cef-1993-4397-c5be-0d00c2f59bf1"
      },
      "execution_count": 3,
      "outputs": [
        {
          "output_type": "stream",
          "name": "stdout",
          "text": [
            "Total Expenses in dollars: 3720\n"
          ]
        }
      ]
    },
    {
      "cell_type": "code",
      "source": [
        "price_per_kg_wheat = 2\n",
        "price_per_kg_potato = 1.4\n",
        "\n",
        "total_revenue_dollars = price_per_kg_wheat*total_kgs_wheat_harvest + price_per_kg_potato*total_kgs_potato_harvest\n",
        "print(\"Total Revenue in dollars:\", total_revenue_dollars)"
      ],
      "metadata": {
        "colab": {
          "base_uri": "https://localhost:8080/"
        },
        "id": "JpfdV25PK5CV",
        "outputId": "e21a5594-741c-4372-c83c-efa13e73be18"
      },
      "execution_count": 5,
      "outputs": [
        {
          "output_type": "stream",
          "name": "stdout",
          "text": [
            "Total Revenue in dollars: 9140.0\n"
          ]
        }
      ]
    },
    {
      "cell_type": "code",
      "source": [
        "total_profit_dollars = total_revenue_dollars - total_expenses_dollars\n",
        "print(\"Total profit in dollars:\", total_profit_dollars)"
      ],
      "metadata": {
        "colab": {
          "base_uri": "https://localhost:8080/"
        },
        "id": "rYhBkPbGLOU2",
        "outputId": "ac167674-f1b1-464f-ed8f-ea97d627c5fb"
      },
      "execution_count": 6,
      "outputs": [
        {
          "output_type": "stream",
          "name": "stdout",
          "text": [
            "Total profit in dollars: 5420.0\n"
          ]
        }
      ]
    },
    {
      "cell_type": "code",
      "source": [],
      "metadata": {
        "id": "M8IO6zAOL9gj"
      },
      "execution_count": null,
      "outputs": []
    }
  ]
}