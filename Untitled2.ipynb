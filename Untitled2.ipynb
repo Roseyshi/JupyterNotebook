{
 "cells": [
  {
   "cell_type": "code",
   "execution_count": 32,
   "id": "14a1c328",
   "metadata": {},
   "outputs": [],
   "source": [
    "import pandas as pd\n",
    "import numpy as np\n",
    "import matplotlib.pyplot as plt"
   ]
  },
  {
   "cell_type": "code",
   "execution_count": 33,
   "id": "c49b380a",
   "metadata": {},
   "outputs": [
    {
     "data": {
      "text/html": [
       "<div>\n",
       "<style scoped>\n",
       "    .dataframe tbody tr th:only-of-type {\n",
       "        vertical-align: middle;\n",
       "    }\n",
       "\n",
       "    .dataframe tbody tr th {\n",
       "        vertical-align: top;\n",
       "    }\n",
       "\n",
       "    .dataframe thead th {\n",
       "        text-align: right;\n",
       "    }\n",
       "</style>\n",
       "<table border=\"1\" class=\"dataframe\">\n",
       "  <thead>\n",
       "    <tr style=\"text-align: right;\">\n",
       "      <th></th>\n",
       "      <th>YearsExperience</th>\n",
       "      <th>Salary</th>\n",
       "    </tr>\n",
       "  </thead>\n",
       "  <tbody>\n",
       "    <tr>\n",
       "      <th>0</th>\n",
       "      <td>1.1</td>\n",
       "      <td>39343</td>\n",
       "    </tr>\n",
       "    <tr>\n",
       "      <th>1</th>\n",
       "      <td>1.3</td>\n",
       "      <td>46205</td>\n",
       "    </tr>\n",
       "    <tr>\n",
       "      <th>2</th>\n",
       "      <td>1.5</td>\n",
       "      <td>37731</td>\n",
       "    </tr>\n",
       "    <tr>\n",
       "      <th>3</th>\n",
       "      <td>2.0</td>\n",
       "      <td>43525</td>\n",
       "    </tr>\n",
       "    <tr>\n",
       "      <th>4</th>\n",
       "      <td>2.2</td>\n",
       "      <td>39891</td>\n",
       "    </tr>\n",
       "  </tbody>\n",
       "</table>\n",
       "</div>"
      ],
      "text/plain": [
       "   YearsExperience  Salary\n",
       "0              1.1   39343\n",
       "1              1.3   46205\n",
       "2              1.5   37731\n",
       "3              2.0   43525\n",
       "4              2.2   39891"
      ]
     },
     "execution_count": 33,
     "metadata": {},
     "output_type": "execute_result"
    }
   ],
   "source": [
    "data= pd.read_csv('E:\\PROGRAMMING\\Salary_Data.csv')\n",
    "data.head()"
   ]
  },
  {
   "cell_type": "code",
   "execution_count": 34,
   "id": "15f0ab50",
   "metadata": {},
   "outputs": [],
   "source": [
    "X=data.iloc[:, -1].values.reshape(-1,1)\n",
    "Y=data.iloc[:, 1].values.reshape(-1,1)"
   ]
  },
  {
   "cell_type": "code",
   "execution_count": 35,
   "id": "7e620b21",
   "metadata": {},
   "outputs": [],
   "source": [
    "class LinearRegression():\n",
    "    #initiating the parameters(learning rate & no of iterations)\n",
    "    def __init__(self, learning_rate,no_of_iterations):\n",
    "        \n",
    "        self.learning_rate = learning_rate\n",
    "        self.no_of_iterations = no_of_iterations\n",
    "        \n",
    "    def fit(self,X,Y):\n",
    "        \n",
    "        # number of training examples and number of features\n",
    "        self.m, self.n = X.shape   #number of rows and no of columns\n",
    "        \n",
    "        # initiating the weights and bias\n",
    "        \n",
    "        self.w= np.zeros(self.n)\n",
    "        \n",
    "        self.b= 0\n",
    "        \n",
    "        self.X= X\n",
    "        \n",
    "        self.Y= Y\n",
    "        \n",
    "        # implementing the gradient descent\n",
    "        \n",
    "        for i in range(self.no_of_iterations) :\n",
    "            self.update_weights()\n",
    "        \n",
    "            \n",
    "            \n",
    "                \n",
    "    def update_weights(self):\n",
    "        Y_prediction= self.predict( self.X)\n",
    "        \n",
    "       # calculate gradients\n",
    "    \n",
    "        dw= - (2 * (self.X.T).dot (self.Y - Y_prediction)) / self.m\n",
    " \n",
    "        db= -2*np.sum (self.Y - Y_prediction) / self.m\n",
    "        \n",
    "        \n",
    "        # updating the weights\n",
    "        self.w = self.w - self.learning_rate * dw\n",
    "        self.b = self.b - self.learning_rate * db\n",
    "        \n",
    "    def predict(self,X):\n",
    "        \n",
    "        return X.dot(self.w) + self.b"
   ]
  },
  {
   "cell_type": "code",
   "execution_count": 36,
   "id": "ce41dce2",
   "metadata": {},
   "outputs": [],
   "source": [
    "from sklearn.model_selection import train_test_split\n",
    "X_train, X_test, Y_train, Y_test= train_test_split(X, Y, test_size=0.33, random_state=2)"
   ]
  },
  {
   "cell_type": "code",
   "execution_count": 37,
   "id": "8aaa0d4c",
   "metadata": {},
   "outputs": [
    {
     "name": "stderr",
     "output_type": "stream",
     "text": [
      "C:\\Users\\lenovo\\AppData\\Local\\Temp\\ipykernel_15192\\1989137797.py:42: RuntimeWarning: invalid value encountered in subtract\n",
      "  self.w = self.w - self.learning_rate * dw\n",
      "C:\\Users\\lenovo\\AppData\\Local\\Temp\\ipykernel_15192\\1989137797.py:43: RuntimeWarning: invalid value encountered in double_scalars\n",
      "  self.b = self.b - self.learning_rate * db\n"
     ]
    }
   ],
   "source": [
    "model=LinearRegression(learning_rate=0.02, no_of_iterations=1000)\n",
    "model.fit(X_train, Y_train)"
   ]
  },
  {
   "cell_type": "code",
   "execution_count": 38,
   "id": "32858d0a",
   "metadata": {},
   "outputs": [
    {
     "data": {
      "text/plain": [
       "((30, 1), 2, 30)"
      ]
     },
     "execution_count": 38,
     "metadata": {},
     "output_type": "execute_result"
    }
   ],
   "source": [
    "X.shape, X.ndim, len(X)"
   ]
  },
  {
   "cell_type": "code",
   "execution_count": 39,
   "id": "8cdea36f",
   "metadata": {},
   "outputs": [
    {
     "data": {
      "text/plain": [
       "((30, 1), 2, 30)"
      ]
     },
     "execution_count": 39,
     "metadata": {},
     "output_type": "execute_result"
    }
   ],
   "source": [
    "Y.shape, Y.ndim, len(Y)"
   ]
  },
  {
   "cell_type": "code",
   "execution_count": 42,
   "id": "82f73af0",
   "metadata": {},
   "outputs": [
    {
     "name": "stdout",
     "output_type": "stream",
     "text": [
      "(20, 1) 2 20\n",
      "(10, 1) 2 10\n",
      "(20, 1) 2 20\n",
      "(10, 1) 2 10\n"
     ]
    }
   ],
   "source": [
    "print(X_train.shape, X_train.ndim, len(X_train))\n",
    "print(X_test.shape, X_test.ndim, len(X_test))\n",
    "print(Y_train.shape, Y_train.ndim, len(Y_train))\n",
    "print(Y_test.shape, Y_test.ndim, len(Y_test))"
   ]
  },
  {
   "cell_type": "code",
   "execution_count": 40,
   "id": "60a273e6",
   "metadata": {},
   "outputs": [
    {
     "name": "stdout",
     "output_type": "stream",
     "text": [
      "weight=  [[nan nan nan nan nan nan nan nan nan nan nan nan nan nan nan nan nan nan\n",
      "  nan nan]]\n",
      "bias=  nan\n"
     ]
    }
   ],
   "source": [
    "print('weight= ', model.w)\n",
    "print('bias= ', model.b)"
   ]
  },
  {
   "cell_type": "code",
   "execution_count": null,
   "id": "b761eed5",
   "metadata": {},
   "outputs": [],
   "source": []
  }
 ],
 "metadata": {
  "kernelspec": {
   "display_name": "Python 3 (ipykernel)",
   "language": "python",
   "name": "python3"
  },
  "language_info": {
   "codemirror_mode": {
    "name": "ipython",
    "version": 3
   },
   "file_extension": ".py",
   "mimetype": "text/x-python",
   "name": "python",
   "nbconvert_exporter": "python",
   "pygments_lexer": "ipython3",
   "version": "3.9.13"
  }
 },
 "nbformat": 4,
 "nbformat_minor": 5
}
