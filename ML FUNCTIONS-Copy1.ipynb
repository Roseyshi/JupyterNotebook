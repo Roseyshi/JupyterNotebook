{
 "cells": [
  {
   "cell_type": "markdown",
   "id": "92ed5e56",
   "metadata": {},
   "source": [
    "EUCLIDEAN AND MANHATTAN DISTANCES FOR K-NEIGHBOURS"
   ]
  },
  {
   "cell_type": "raw",
   "id": "24dc82b0",
   "metadata": {},
   "source": [
    "Euclidean:\n",
    "\n",
    "def get_euclidean_distance(p1, p2):\n",
    "  dist=0\n",
    "  \n",
    " for i in range(len(p1)):\n",
    "   dist=dist + (p1[i] + p2[i]) **2\n",
    "   \n",
    "   \n",
    "  euclidean_dist= np.sqrt(dist) "
   ]
  },
  {
   "cell_type": "raw",
   "id": "12f0ae83",
   "metadata": {},
   "source": [
    "Manhattan:\n",
    "\n",
    "def get_manhattan_dist(p1, p2)\n",
    "\n",
    "  dist=0\n",
    "  \n",
    "  for i in range(len(p1)):\n",
    "     dist= dist + abs(p1[i] - p2[i])\n",
    "     \n",
    "     manhattan_dist = dist"
   ]
  },
  {
   "cell_type": "code",
   "execution_count": null,
   "id": "7c5229db",
   "metadata": {},
   "outputs": [],
   "source": []
  }
 ],
 "metadata": {
  "kernelspec": {
   "display_name": "Python 3 (ipykernel)",
   "language": "python",
   "name": "python3"
  },
  "language_info": {
   "codemirror_mode": {
    "name": "ipython",
    "version": 3
   },
   "file_extension": ".py",
   "mimetype": "text/x-python",
   "name": "python",
   "nbconvert_exporter": "python",
   "pygments_lexer": "ipython3",
   "version": "3.9.13"
  }
 },
 "nbformat": 4,
 "nbformat_minor": 5
}
