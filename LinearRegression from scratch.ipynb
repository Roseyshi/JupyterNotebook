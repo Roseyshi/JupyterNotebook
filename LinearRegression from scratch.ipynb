{
 "cells": [
  {
   "cell_type": "code",
   "execution_count": null,
   "id": "07116812",
   "metadata": {},
   "outputs": [],
   "source": [
    "import pandas as pd\n",
    "import numpy as np\n",
    "import matplotlib.pyplot as plt"
   ]
  },
  {
   "cell_type": "code",
   "execution_count": null,
   "id": "ecf824fd",
   "metadata": {},
   "outputs": [],
   "source": [
    "class LinearRegression():\n",
    "    #initiating the parameters(learning rate & no of iterations)\n",
    "    def __init__(self, learning_rate,no_of_iterations):\n",
    "        \n",
    "        self.learning_rate=learning_rate\n",
    "        self.no_of_iterations=no_of_iterations\n",
    "        \n",
    "    def fit(self,X,Y):\n",
    "        \n",
    "        # number of training examples and number of features\n",
    "        self.m, self.n= X.shape   #number of rows and no of columns\n",
    "        \n",
    "        # initiating the weights and bias\n",
    "        \n",
    "        self.w= np.zeros(self.n)\n",
    "        self.b= 0\n",
    "        self.X= X\n",
    "        self.Y= Y\n",
    "        \n",
    "        # implementing the gradient descent\n",
    "        \n",
    "        for i in range(self.no_of_iterations):\n",
    "                self.update_weights()\n",
    "            \n",
    "            \n",
    "                \n",
    "    def update_weights(self):\n",
    "        Y_prediction= self.predict(self.X)\n",
    "        \n",
    "       # calculate gradients\n",
    "    \n",
    "        dw= -(2*(self.X).dot(self.Y - Y_prediction)) / self.m\n",
    " \n",
    "        db= -2*np.sum (self.Y - Y_prediction) / self.m\n",
    "        \n",
    "        \n",
    "        # updating the weights\n",
    "        self.w = self.w - self.learning_rate * dw\n",
    "        self.b = self.b - self.learning_rate * db\n",
    "        \n",
    "    def predict(self,X):\n",
    "        \n",
    "        return X.dot(self.w) + self.b"
   ]
  },
  {
   "cell_type": "code",
   "execution_count": null,
   "id": "b26d808d",
   "metadata": {},
   "outputs": [],
   "source": [
    "#Work Flow of the linear regression model:\n",
    "#step 1: Set learnig Rate and number of iterations; Initiate random weights and bias value\n",
    "# Step 2: Build linear regression equation (y=wx + b)\n",
    "# Step 3: Find the \"y pred\" value for given x value for the corresponding weight and bias\n",
    "# Step 4: Check the loss function for these parameter values.\n",
    "# Step 5: Update the parameter values using gradient descent.(new weight & bias value)\n",
    "# Step 6: Step 3,4,5 are repeated till we get the minimum loss function\n",
    "# Finally we get the best model (best weight and bias value) as is has minimum loss function"
   ]
  },
  {
   "cell_type": "code",
   "execution_count": null,
   "id": "799e8453",
   "metadata": {},
   "outputs": [],
   "source": [
    "import pandas as pd\n",
    "import matplotlib.pyplot as plt\n",
    "from sklearn.model_selection import train_test_split"
   ]
  },
  {
   "cell_type": "code",
   "execution_count": null,
   "id": "f66ac1e3",
   "metadata": {},
   "outputs": [],
   "source": [
    "salary_data=pd.read_csv('E:\\PROGRAMMING\\Salary_Data.csv')\n",
    "salary_data.head()"
   ]
  },
  {
   "cell_type": "code",
   "execution_count": null,
   "id": "8cf76fdc",
   "metadata": {},
   "outputs": [],
   "source": [
    "salary_data.isnull().sum()"
   ]
  },
  {
   "cell_type": "code",
   "execution_count": null,
   "id": "cae4f6f8",
   "metadata": {},
   "outputs": [],
   "source": [
    "salary_data.info()"
   ]
  },
  {
   "cell_type": "code",
   "execution_count": null,
   "id": "99433a92",
   "metadata": {},
   "outputs": [],
   "source": [
    "X=salary_data.iloc[:, :-1].values"
   ]
  },
  {
   "cell_type": "code",
   "execution_count": null,
   "id": "a211512b",
   "metadata": {},
   "outputs": [],
   "source": [
    "print(type(X))"
   ]
  },
  {
   "cell_type": "code",
   "execution_count": null,
   "id": "7c03099d",
   "metadata": {},
   "outputs": [],
   "source": [
    "X.ndim"
   ]
  },
  {
   "cell_type": "code",
   "execution_count": null,
   "id": "b42ee98d",
   "metadata": {},
   "outputs": [],
   "source": [
    "Y=salary_data.iloc[:, 1].values"
   ]
  },
  {
   "cell_type": "code",
   "execution_count": null,
   "id": "09cd0bc7",
   "metadata": {},
   "outputs": [],
   "source": [
    "print(type(Y))"
   ]
  },
  {
   "cell_type": "code",
   "execution_count": null,
   "id": "1afdd5e5",
   "metadata": {},
   "outputs": [],
   "source": [
    "Y=Y.reshape(30,1)\n",
    "Y.shape"
   ]
  },
  {
   "cell_type": "code",
   "execution_count": null,
   "id": "b807f481",
   "metadata": {},
   "outputs": [],
   "source": [
    "X_train, X_test, Y_train, Y_test= train_test_split(X,Y, test_size=0.33, random_state=2)"
   ]
  },
  {
   "cell_type": "code",
   "execution_count": null,
   "id": "7796c7c2",
   "metadata": {},
   "outputs": [],
   "source": [
    "X_train.shape"
   ]
  },
  {
   "cell_type": "code",
   "execution_count": null,
   "id": "945d3e28",
   "metadata": {},
   "outputs": [],
   "source": [
    "Y_train.shape"
   ]
  },
  {
   "cell_type": "code",
   "execution_count": null,
   "id": "7e28045d",
   "metadata": {},
   "outputs": [],
   "source": [
    "X_test.shape"
   ]
  },
  {
   "cell_type": "code",
   "execution_count": null,
   "id": "1863de23",
   "metadata": {},
   "outputs": [],
   "source": [
    "Y_test.shape"
   ]
  },
  {
   "cell_type": "code",
   "execution_count": null,
   "id": "7c83fe9b",
   "metadata": {},
   "outputs": [],
   "source": [
    "model = LinearRegression(learning_rate=0.02, no_of_iterations=1000)"
   ]
  },
  {
   "cell_type": "code",
   "execution_count": null,
   "id": "0b748351",
   "metadata": {},
   "outputs": [],
   "source": [
    "model.fit(X_train, Y_train)"
   ]
  },
  {
   "cell_type": "code",
   "execution_count": null,
   "id": "73d413f0",
   "metadata": {},
   "outputs": [],
   "source": [
    "#print('bias=  ', model.b)\n",
    "print('weight= ', model.w[0])\n",
    "print('bias= ', model.b)"
   ]
  },
  {
   "cell_type": "code",
   "execution_count": null,
   "id": "6b06ed9f",
   "metadata": {},
   "outputs": [],
   "source": [
    "#predicting salary value for test data\n",
    "test_data_prediction=model.predict(X_test)"
   ]
  },
  {
   "cell_type": "code",
   "execution_count": null,
   "id": "abd21c4e",
   "metadata": {},
   "outputs": [],
   "source": [
    "print(test_data_prediction)"
   ]
  },
  {
   "cell_type": "code",
   "execution_count": null,
   "id": "a61dd40c",
   "metadata": {},
   "outputs": [],
   "source": [
    "#visualising the predicted values vs actual values\n",
    "plt.scatter(X_test, Y_test, color='red')\n",
    "plt.plot(X_test, test_data_prediction, color='blue')\n",
    "plt.xlabel('work experience')\n",
    "plt.ylabel('salary')\n",
    "plt.title('Work experience vs Salary')\n",
    "pl.show"
   ]
  },
  {
   "cell_type": "code",
   "execution_count": null,
   "id": "96ea193a",
   "metadata": {},
   "outputs": [],
   "source": []
  }
 ],
 "metadata": {
  "kernelspec": {
   "display_name": "Python 3 (ipykernel)",
   "language": "python",
   "name": "python3"
  },
  "language_info": {
   "codemirror_mode": {
    "name": "ipython",
    "version": 3
   },
   "file_extension": ".py",
   "mimetype": "text/x-python",
   "name": "python",
   "nbconvert_exporter": "python",
   "pygments_lexer": "ipython3",
   "version": "3.9.13"
  }
 },
 "nbformat": 4,
 "nbformat_minor": 5
}
