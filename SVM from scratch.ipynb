{
 "cells": [
  {
   "cell_type": "raw",
   "id": "4a2ca4fd",
   "metadata": {},
   "source": [
    "EQUATION OF THE HYPERPLANE IS SIMILAR TO THE LINEAR EAQUATION\n",
    "y = wx - b\n",
    "\n",
    "GRADIENT DESCENT  IS AN OPTIMIZATION ALGORITHM, USED FOR UPDATING THE PARAMETERS OF THE LEARNING MODEL\n",
    "\n",
    "w = w - L* dw\n",
    "b= b - L* db"
   ]
  },
  {
   "cell_type": "code",
   "execution_count": 2,
   "id": "fb80aa42",
   "metadata": {},
   "outputs": [],
   "source": [
    "import numpy as np"
   ]
  },
  {
   "cell_type": "code",
   "execution_count": null,
   "id": "5ca57f1a",
   "metadata": {},
   "outputs": [],
   "source": [
    "class SVM_classifier():\n",
    "    \n",
    "   # initiating the hyperparameters\n",
    "    def __init__(self, learning_rate, no_of_iterations, lambda_parameter):\n",
    "        \n",
    "        self.learning_rate = learning_rate\n",
    "        \n",
    "        self.no_of_iteraions =  no_of_iterations\n",
    "        \n",
    "        self.lambda_parameter = lambda_parameter\n",
    "        \n",
    "    \n",
    "    \n",
    "    \n",
    "   # fitting the dataset to SVM Classifier \n",
    "    def fit(self, X, Y): \n",
    "        \n",
    "        self.m,  self.n = X.shape\n",
    "        \n",
    "        \n",
    "   # initiating the weight and bias values\n",
    "        self.w = np.zeros (self.n)\n",
    "    \n",
    "        self.X = X\n",
    "        \n",
    "        self.Y = Y\n",
    "        \n",
    "        for i in range(self.no_of_iterations):\n",
    "            \n",
    "            self.update_weights()\n",
    "        \n",
    "    \n",
    "    \n",
    "    \n",
    "   # function for updating the weights and bias \n",
    "    def update_weights(self):\n",
    "        \n",
    "        #label encoding\n",
    "        \n",
    "        y_label = np.where(self.Y<= 0, -1, 1)\n",
    "        \n",
    "        for index, x_i in enumearte(self.X):\n",
    "            \n",
    "            condition = y_label[index] * (np.dot(x_i, self.w) - self.b) >= 1\n",
    "        \n",
    "        \n",
    "  # predict the label for a given input value  \n",
    "    def predict():\n",
    "    \n",
    "    \n",
    "    \n",
    "    \n",
    "    \n",
    "    \n",
    "    \n",
    "    \n",
    "    \n",
    "    \n",
    "    \n",
    "    \n",
    "    \n",
    "    "
   ]
  }
 ],
 "metadata": {
  "kernelspec": {
   "display_name": "Python 3 (ipykernel)",
   "language": "python",
   "name": "python3"
  },
  "language_info": {
   "codemirror_mode": {
    "name": "ipython",
    "version": 3
   },
   "file_extension": ".py",
   "mimetype": "text/x-python",
   "name": "python",
   "nbconvert_exporter": "python",
   "pygments_lexer": "ipython3",
   "version": "3.9.13"
  }
 },
 "nbformat": 4,
 "nbformat_minor": 5
}
